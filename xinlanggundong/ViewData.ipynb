{
 "cells": [
  {
   "cell_type": "code",
   "execution_count": 1,
   "metadata": {},
   "outputs": [],
   "source": [
    "import pandas as pd\n",
    "import numpy as np"
   ]
  },
  {
   "cell_type": "code",
   "execution_count": 5,
   "metadata": {},
   "outputs": [],
   "source": [
    "df = pd.read_csv(\"lastday.csv\",encoding=\"gb18030\")"
   ]
  },
  {
   "cell_type": "code",
   "execution_count": 7,
   "metadata": {},
   "outputs": [
    {
     "name": "stdout",
     "output_type": "stream",
     "text": [
      "<class 'pandas.core.frame.DataFrame'>\n",
      "RangeIndex: 2227 entries, 0 to 2226\n",
      "Data columns (total 4 columns):\n",
      "Pcontent    2210 non-null object\n",
      "newsDate    2227 non-null object\n",
      "title       2227 non-null object\n",
      "url         2227 non-null object\n",
      "dtypes: object(4)\n",
      "memory usage: 69.7+ KB\n"
     ]
    }
   ],
   "source": [
    "df.info()"
   ]
  },
  {
   "cell_type": "code",
   "execution_count": 8,
   "metadata": {},
   "outputs": [
    {
     "data": {
      "text/html": [
       "<div>\n",
       "<style scoped>\n",
       "    .dataframe tbody tr th:only-of-type {\n",
       "        vertical-align: middle;\n",
       "    }\n",
       "\n",
       "    .dataframe tbody tr th {\n",
       "        vertical-align: top;\n",
       "    }\n",
       "\n",
       "    .dataframe thead th {\n",
       "        text-align: right;\n",
       "    }\n",
       "</style>\n",
       "<table border=\"1\" class=\"dataframe\">\n",
       "  <thead>\n",
       "    <tr style=\"text-align: right;\">\n",
       "      <th></th>\n",
       "      <th>Pcontent</th>\n",
       "      <th>newsDate</th>\n",
       "      <th>title</th>\n",
       "      <th>url</th>\n",
       "    </tr>\n",
       "  </thead>\n",
       "  <tbody>\n",
       "    <tr>\n",
       "      <th>0</th>\n",
       "      <td>印巴空战过去已经整整两个月了，由于各种各样的原因，2月27日发生在南亚上空的那场空战，于外界...</td>\n",
       "      <td>2019-04-30</td>\n",
       "      <td>“枭龙”击落印度苏-30MKI证据确凿？照片系人为捏造</td>\n",
       "      <td>https://mil.news.sina.com.cn/jssd/2019-04-30/d...</td>\n",
       "    </tr>\n",
       "    <tr>\n",
       "      <th>1</th>\n",
       "      <td>节前重磅！科创板两融规则来了，券源扩大、借入人需符合4条件、证金公司可出借自有证券…来看十大...</td>\n",
       "      <td>2019-04-30</td>\n",
       "      <td>科创板两融规则来了 来看十大关键点</td>\n",
       "      <td>https://finance.sina.com.cn/stock/kechuangban/...</td>\n",
       "    </tr>\n",
       "    <tr>\n",
       "      <th>2</th>\n",
       "      <td>蚂蚁金服清空趣店股份，从合作终止到“被动”荣升二股东，双方早生嫌隙？趣店的前六大股东中，只剩...</td>\n",
       "      <td>2019-04-30</td>\n",
       "      <td>蚂蚁金服清空趣店股份 双方或早生嫌隙？</td>\n",
       "      <td>https://finance.sina.com.cn/roll/2019-04-30/do...</td>\n",
       "    </tr>\n",
       "    <tr>\n",
       "      <th>3</th>\n",
       "      <td>苹果将在周二盘后发布其2019财年2季度财报，今年以来持续性反弹的公司股价将面临考验。苹果公...</td>\n",
       "      <td>2019-04-30</td>\n",
       "      <td>苹果财报看点：iPhone、服务业、5G手机一个都不能少</td>\n",
       "      <td>https://finance.sina.com.cn/stock/usstock/c/20...</td>\n",
       "    </tr>\n",
       "    <tr>\n",
       "      <th>4</th>\n",
       "      <td>原标题：助神舟、嫦娥任务成功的功勋舰远望2号落户地披露：江苏江阴新华社消息，圆满完成40多年...</td>\n",
       "      <td>2019-04-30</td>\n",
       "      <td>助攻嫦娥任务的功勋舰落户地披露：江苏江阴</td>\n",
       "      <td>https://news.sina.com.cn/o/2019-04-30/doc-ihvh...</td>\n",
       "    </tr>\n",
       "  </tbody>\n",
       "</table>\n",
       "</div>"
      ],
      "text/plain": [
       "                                            Pcontent    newsDate  \\\n",
       "0  印巴空战过去已经整整两个月了，由于各种各样的原因，2月27日发生在南亚上空的那场空战，于外界...  2019-04-30   \n",
       "1  节前重磅！科创板两融规则来了，券源扩大、借入人需符合4条件、证金公司可出借自有证券…来看十大...  2019-04-30   \n",
       "2  蚂蚁金服清空趣店股份，从合作终止到“被动”荣升二股东，双方早生嫌隙？趣店的前六大股东中，只剩...  2019-04-30   \n",
       "3  苹果将在周二盘后发布其2019财年2季度财报，今年以来持续性反弹的公司股价将面临考验。苹果公...  2019-04-30   \n",
       "4  原标题：助神舟、嫦娥任务成功的功勋舰远望2号落户地披露：江苏江阴新华社消息，圆满完成40多年...  2019-04-30   \n",
       "\n",
       "                          title  \\\n",
       "0   “枭龙”击落印度苏-30MKI证据确凿？照片系人为捏造   \n",
       "1             科创板两融规则来了 来看十大关键点   \n",
       "2           蚂蚁金服清空趣店股份 双方或早生嫌隙？   \n",
       "3  苹果财报看点：iPhone、服务业、5G手机一个都不能少   \n",
       "4          助攻嫦娥任务的功勋舰落户地披露：江苏江阴   \n",
       "\n",
       "                                                 url  \n",
       "0  https://mil.news.sina.com.cn/jssd/2019-04-30/d...  \n",
       "1  https://finance.sina.com.cn/stock/kechuangban/...  \n",
       "2  https://finance.sina.com.cn/roll/2019-04-30/do...  \n",
       "3  https://finance.sina.com.cn/stock/usstock/c/20...  \n",
       "4  https://news.sina.com.cn/o/2019-04-30/doc-ihvh...  "
      ]
     },
     "execution_count": 8,
     "metadata": {},
     "output_type": "execute_result"
    }
   ],
   "source": [
    "df.head()"
   ]
  },
  {
   "cell_type": "code",
   "execution_count": 10,
   "metadata": {},
   "outputs": [
    {
     "data": {
      "text/plain": [
       "2019-04-30    2226\n",
       "newsDate         1\n",
       "Name: newsDate, dtype: int64"
      ]
     },
     "execution_count": 10,
     "metadata": {},
     "output_type": "execute_result"
    }
   ],
   "source": [
    "df.newsDate.value_counts()"
   ]
  },
  {
   "cell_type": "code",
   "execution_count": 13,
   "metadata": {},
   "outputs": [
    {
     "data": {
      "text/html": [
       "<div>\n",
       "<style scoped>\n",
       "    .dataframe tbody tr th:only-of-type {\n",
       "        vertical-align: middle;\n",
       "    }\n",
       "\n",
       "    .dataframe tbody tr th {\n",
       "        vertical-align: top;\n",
       "    }\n",
       "\n",
       "    .dataframe thead th {\n",
       "        text-align: right;\n",
       "    }\n",
       "</style>\n",
       "<table border=\"1\" class=\"dataframe\">\n",
       "  <thead>\n",
       "    <tr style=\"text-align: right;\">\n",
       "      <th></th>\n",
       "      <th>Pcontent</th>\n",
       "      <th>newsDate</th>\n",
       "      <th>title</th>\n",
       "      <th>url</th>\n",
       "    </tr>\n",
       "  </thead>\n",
       "  <tbody>\n",
       "    <tr>\n",
       "      <th>10</th>\n",
       "      <td>Pcontent</td>\n",
       "      <td>newsDate</td>\n",
       "      <td>title</td>\n",
       "      <td>url</td>\n",
       "    </tr>\n",
       "  </tbody>\n",
       "</table>\n",
       "</div>"
      ],
      "text/plain": [
       "    Pcontent  newsDate  title  url\n",
       "10  Pcontent  newsDate  title  url"
      ]
     },
     "execution_count": 13,
     "metadata": {},
     "output_type": "execute_result"
    }
   ],
   "source": [
    "df[df.newsDate!=\"2019-04-30\"]"
   ]
  },
  {
   "cell_type": "code",
   "execution_count": 18,
   "metadata": {},
   "outputs": [
    {
     "data": {
      "text/html": [
       "<div>\n",
       "<style scoped>\n",
       "    .dataframe tbody tr th:only-of-type {\n",
       "        vertical-align: middle;\n",
       "    }\n",
       "\n",
       "    .dataframe tbody tr th {\n",
       "        vertical-align: top;\n",
       "    }\n",
       "\n",
       "    .dataframe thead th {\n",
       "        text-align: right;\n",
       "    }\n",
       "</style>\n",
       "<table border=\"1\" class=\"dataframe\">\n",
       "  <thead>\n",
       "    <tr style=\"text-align: right;\">\n",
       "      <th></th>\n",
       "      <th>Pcontent</th>\n",
       "      <th>newsDate</th>\n",
       "      <th>title</th>\n",
       "      <th>url</th>\n",
       "    </tr>\n",
       "  </thead>\n",
       "  <tbody>\n",
       "    <tr>\n",
       "      <th>420</th>\n",
       "      <td>NaN</td>\n",
       "      <td>2019-04-30</td>\n",
       "      <td>贾跃亭被立案调查，中国股民该如何索赔？</td>\n",
       "      <td>http://tech.sina.com.cn/csj/2019-04-30/doc-ihvhiewr9161860.shtml</td>\n",
       "    </tr>\n",
       "    <tr>\n",
       "      <th>692</th>\n",
       "      <td>NaN</td>\n",
       "      <td>2019-04-30</td>\n",
       "      <td>融资13亿后突然死亡！被苹果点赞的明星创业公司倒闭</td>\n",
       "      <td>http://tech.sina.com.cn/csj/2019-04-30/doc-ihvhiqax5927259.shtml</td>\n",
       "    </tr>\n",
       "    <tr>\n",
       "      <th>695</th>\n",
       "      <td>NaN</td>\n",
       "      <td>2019-04-30</td>\n",
       "      <td>揭秘腾讯最有权力的50人：他们掌握新科技帝国权杖</td>\n",
       "      <td>http://tech.sina.com.cn/csj/2019-04-30/doc-ihvhiewr9118737.shtml</td>\n",
       "    </tr>\n",
       "    <tr>\n",
       "      <th>823</th>\n",
       "      <td>NaN</td>\n",
       "      <td>2019-04-30</td>\n",
       "      <td>硅谷20年沉浮亲历者:我见过狂欢 也见过狂欢后的下坠</td>\n",
       "      <td>http://tech.sina.com.cn/csj/2019-04-30/doc-ihvhiqax5909104.shtml</td>\n",
       "    </tr>\n",
       "    <tr>\n",
       "      <th>1024</th>\n",
       "      <td>NaN</td>\n",
       "      <td>2019-04-30</td>\n",
       "      <td>人造鸡蛋来袭？这家公司拯救一万亿鸡蛋供求</td>\n",
       "      <td>http://tech.sina.com.cn/csj/2019-04-30/doc-ihvhiewr9129488.shtml</td>\n",
       "    </tr>\n",
       "    <tr>\n",
       "      <th>1133</th>\n",
       "      <td>NaN</td>\n",
       "      <td>2019-04-30</td>\n",
       "      <td>创始人要怎么讲故事？</td>\n",
       "      <td>http://tech.sina.com.cn/csj/2019-04-30/doc-ihvhiewr9107168.shtml</td>\n",
       "    </tr>\n",
       "    <tr>\n",
       "      <th>1142</th>\n",
       "      <td>NaN</td>\n",
       "      <td>2019-04-30</td>\n",
       "      <td>瑞幸不是咖啡店：上市型创业的登峰造极</td>\n",
       "      <td>http://tech.sina.com.cn/csj/2019-04-30/doc-ihvhiewr9084907.shtml</td>\n",
       "    </tr>\n",
       "    <tr>\n",
       "      <th>1186</th>\n",
       "      <td>NaN</td>\n",
       "      <td>2019-04-30</td>\n",
       "      <td>Uber和滴滴背后迥异的“悬崖式“监管</td>\n",
       "      <td>http://tech.sina.com.cn/csj/2019-04-30/doc-ihvhiqax5892377.shtml</td>\n",
       "    </tr>\n",
       "    <tr>\n",
       "      <th>1293</th>\n",
       "      <td>NaN</td>\n",
       "      <td>2019-04-30</td>\n",
       "      <td>暴风冯鑫：成也“风口”，败也“风口”</td>\n",
       "      <td>http://tech.sina.com.cn/csj/2019-04-30/doc-ihvhiewr9053993.shtml</td>\n",
       "    </tr>\n",
       "    <tr>\n",
       "      <th>1317</th>\n",
       "      <td>NaN</td>\n",
       "      <td>2019-04-30</td>\n",
       "      <td>中关村“金三角”往事</td>\n",
       "      <td>http://tech.sina.com.cn/csj/2019-04-30/doc-ihvhiewr9049349.shtml</td>\n",
       "    </tr>\n",
       "    <tr>\n",
       "      <th>1362</th>\n",
       "      <td>NaN</td>\n",
       "      <td>2019-04-30</td>\n",
       "      <td>起底身份倒卖产业：那些被公开叫卖的人生</td>\n",
       "      <td>http://tech.sina.com.cn/csj/2019-04-30/doc-ihvhiewr9053334.shtml</td>\n",
       "    </tr>\n",
       "    <tr>\n",
       "      <th>1385</th>\n",
       "      <td>NaN</td>\n",
       "      <td>2019-04-30</td>\n",
       "      <td>翻了翻乐视早年的财报，它曾经真的有过梦想</td>\n",
       "      <td>http://tech.sina.com.cn/csj/2019-04-30/doc-ihvhiqax5866502.shtml</td>\n",
       "    </tr>\n",
       "    <tr>\n",
       "      <th>1408</th>\n",
       "      <td>NaN</td>\n",
       "      <td>2019-04-30</td>\n",
       "      <td>和高通和解后 苹果5G负责人离职、部门重大重组</td>\n",
       "      <td>https://tech.sina.com.cn/roll/2019-04-30/doc-ihvhiqax5881451.shtml</td>\n",
       "    </tr>\n",
       "    <tr>\n",
       "      <th>1517</th>\n",
       "      <td>NaN</td>\n",
       "      <td>2019-04-30</td>\n",
       "      <td>90颗钻石加持：苹果双折叠屏iPhone Z渲染图曝光</td>\n",
       "      <td>https://tech.sina.com.cn/mobile/n/n/2019-04-30/doc-ihvhiewr9043759.shtml</td>\n",
       "    </tr>\n",
       "    <tr>\n",
       "      <th>1578</th>\n",
       "      <td>NaN</td>\n",
       "      <td>2019-04-30</td>\n",
       "      <td>比赛博朋克还朋克的生物黑客</td>\n",
       "      <td>http://tech.sina.com.cn/csj/2019-04-30/doc-ihvhiewr9061108.shtml</td>\n",
       "    </tr>\n",
       "    <tr>\n",
       "      <th>1584</th>\n",
       "      <td>NaN</td>\n",
       "      <td>2019-04-30</td>\n",
       "      <td>苹果发布iOS 12.3新测试版：提升速度、稳定性</td>\n",
       "      <td>https://tech.sina.com.cn/mobile/n/n/2019-04-30/doc-ihvhiqax5856721.shtml</td>\n",
       "    </tr>\n",
       "    <tr>\n",
       "      <th>1589</th>\n",
       "      <td>NaN</td>\n",
       "      <td>2019-04-30</td>\n",
       "      <td>Spotify付费订户达到1亿：比苹果多一倍</td>\n",
       "      <td>https://tech.sina.com.cn/i/2019-04-30/doc-ihvhiqax5858395.shtml</td>\n",
       "    </tr>\n",
       "  </tbody>\n",
       "</table>\n",
       "</div>"
      ],
      "text/plain": [
       "     Pcontent    newsDate                        title                                                                       url\n",
       "420       NaN  2019-04-30          贾跃亭被立案调查，中国股民该如何索赔？          http://tech.sina.com.cn/csj/2019-04-30/doc-ihvhiewr9161860.shtml\n",
       "692       NaN  2019-04-30    融资13亿后突然死亡！被苹果点赞的明星创业公司倒闭          http://tech.sina.com.cn/csj/2019-04-30/doc-ihvhiqax5927259.shtml\n",
       "695       NaN  2019-04-30     揭秘腾讯最有权力的50人：他们掌握新科技帝国权杖          http://tech.sina.com.cn/csj/2019-04-30/doc-ihvhiewr9118737.shtml\n",
       "823       NaN  2019-04-30   硅谷20年沉浮亲历者:我见过狂欢 也见过狂欢后的下坠          http://tech.sina.com.cn/csj/2019-04-30/doc-ihvhiqax5909104.shtml\n",
       "1024      NaN  2019-04-30         人造鸡蛋来袭？这家公司拯救一万亿鸡蛋供求          http://tech.sina.com.cn/csj/2019-04-30/doc-ihvhiewr9129488.shtml\n",
       "1133      NaN  2019-04-30                   创始人要怎么讲故事？          http://tech.sina.com.cn/csj/2019-04-30/doc-ihvhiewr9107168.shtml\n",
       "1142      NaN  2019-04-30           瑞幸不是咖啡店：上市型创业的登峰造极          http://tech.sina.com.cn/csj/2019-04-30/doc-ihvhiewr9084907.shtml\n",
       "1186      NaN  2019-04-30          Uber和滴滴背后迥异的“悬崖式“监管          http://tech.sina.com.cn/csj/2019-04-30/doc-ihvhiqax5892377.shtml\n",
       "1293      NaN  2019-04-30           暴风冯鑫：成也“风口”，败也“风口”          http://tech.sina.com.cn/csj/2019-04-30/doc-ihvhiewr9053993.shtml\n",
       "1317      NaN  2019-04-30                   中关村“金三角”往事          http://tech.sina.com.cn/csj/2019-04-30/doc-ihvhiewr9049349.shtml\n",
       "1362      NaN  2019-04-30          起底身份倒卖产业：那些被公开叫卖的人生          http://tech.sina.com.cn/csj/2019-04-30/doc-ihvhiewr9053334.shtml\n",
       "1385      NaN  2019-04-30         翻了翻乐视早年的财报，它曾经真的有过梦想          http://tech.sina.com.cn/csj/2019-04-30/doc-ihvhiqax5866502.shtml\n",
       "1408      NaN  2019-04-30      和高通和解后 苹果5G负责人离职、部门重大重组        https://tech.sina.com.cn/roll/2019-04-30/doc-ihvhiqax5881451.shtml\n",
       "1517      NaN  2019-04-30  90颗钻石加持：苹果双折叠屏iPhone Z渲染图曝光  https://tech.sina.com.cn/mobile/n/n/2019-04-30/doc-ihvhiewr9043759.shtml\n",
       "1578      NaN  2019-04-30                比赛博朋克还朋克的生物黑客          http://tech.sina.com.cn/csj/2019-04-30/doc-ihvhiewr9061108.shtml\n",
       "1584      NaN  2019-04-30    苹果发布iOS 12.3新测试版：提升速度、稳定性  https://tech.sina.com.cn/mobile/n/n/2019-04-30/doc-ihvhiqax5856721.shtml\n",
       "1589      NaN  2019-04-30       Spotify付费订户达到1亿：比苹果多一倍           https://tech.sina.com.cn/i/2019-04-30/doc-ihvhiqax5858395.shtml"
      ]
     },
     "execution_count": 18,
     "metadata": {},
     "output_type": "execute_result"
    }
   ],
   "source": [
    "pd.set_option('max_colwidth',200)\n",
    "\n",
    "df[df.Pcontent.isnull()]   # 这一类都属于新浪专栏，这部分应该算是比较小的了。"
   ]
  },
  {
   "cell_type": "code",
   "execution_count": 27,
   "metadata": {},
   "outputs": [],
   "source": [
    "df = df[['newsDate','title','url','Pcontent']]\n",
    "df.to_csv(\"output.csv\",index=0)"
   ]
  },
  {
   "cell_type": "code",
   "execution_count": 28,
   "metadata": {},
   "outputs": [
    {
     "name": "stdout",
     "output_type": "stream",
     "text": [
      "<class 'pandas.core.frame.DataFrame'>\n",
      "RangeIndex: 2227 entries, 0 to 2226\n",
      "Data columns (total 4 columns):\n",
      "newsDate    2227 non-null object\n",
      "title       2227 non-null object\n",
      "url         2227 non-null object\n",
      "Pcontent    2210 non-null object\n",
      "dtypes: object(4)\n",
      "memory usage: 69.7+ KB\n"
     ]
    }
   ],
   "source": [
    "dff = pd.read_csv(\"output.csv\")\n",
    "dff.info()"
   ]
  },
  {
   "cell_type": "code",
   "execution_count": null,
   "metadata": {},
   "outputs": [],
   "source": []
  }
 ],
 "metadata": {
  "kernelspec": {
   "display_name": "Python 3",
   "language": "python",
   "name": "python3"
  },
  "language_info": {
   "codemirror_mode": {
    "name": "ipython",
    "version": 3
   },
   "file_extension": ".py",
   "mimetype": "text/x-python",
   "name": "python",
   "nbconvert_exporter": "python",
   "pygments_lexer": "ipython3",
   "version": "3.7.0"
  }
 },
 "nbformat": 4,
 "nbformat_minor": 2
}
